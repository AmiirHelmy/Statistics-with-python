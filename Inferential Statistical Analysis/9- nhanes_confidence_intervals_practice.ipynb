{
 "cells": [
  {
   "cell_type": "markdown",
   "metadata": {},
   "source": [
    "# Practice notebook for confidence intervals using NHANES data\n",
    "\n",
    "This notebook will give you the opportunity to practice working with confidence intervals using the NHANES data.\n",
    "\n",
    "You can enter your code into the cells that say \"enter your code here\", and you can type responses to the questions into the cells that say \"Type Markdown and Latex\".\n",
    "\n",
    "Note that most of the code that you will need to write below is very similar to code that appears in the case study notebook.  You will need to edit code from that notebook in small ways to adapt it to the prompts below.\n",
    "\n",
    "To get started, we will use the same module imports and read the data in the same way as we did in the case study:"
   ]
  },
  {
   "cell_type": "code",
   "execution_count": 82,
   "metadata": {},
   "outputs": [
    {
     "data": {
      "text/html": [
       "<div>\n",
       "<style scoped>\n",
       "    .dataframe tbody tr th:only-of-type {\n",
       "        vertical-align: middle;\n",
       "    }\n",
       "\n",
       "    .dataframe tbody tr th {\n",
       "        vertical-align: top;\n",
       "    }\n",
       "\n",
       "    .dataframe thead th {\n",
       "        text-align: right;\n",
       "    }\n",
       "</style>\n",
       "<table border=\"1\" class=\"dataframe\">\n",
       "  <thead>\n",
       "    <tr style=\"text-align: right;\">\n",
       "      <th></th>\n",
       "      <th>SEQN</th>\n",
       "      <th>ALQ101</th>\n",
       "      <th>ALQ110</th>\n",
       "      <th>ALQ130</th>\n",
       "      <th>SMQ020</th>\n",
       "      <th>RIAGENDR</th>\n",
       "      <th>RIDAGEYR</th>\n",
       "      <th>RIDRETH1</th>\n",
       "      <th>DMDCITZN</th>\n",
       "      <th>DMDEDUC2</th>\n",
       "      <th>...</th>\n",
       "      <th>BPXSY2</th>\n",
       "      <th>BPXDI2</th>\n",
       "      <th>BMXWT</th>\n",
       "      <th>BMXHT</th>\n",
       "      <th>BMXBMI</th>\n",
       "      <th>BMXLEG</th>\n",
       "      <th>BMXARML</th>\n",
       "      <th>BMXARMC</th>\n",
       "      <th>BMXWAIST</th>\n",
       "      <th>HIQ210</th>\n",
       "    </tr>\n",
       "  </thead>\n",
       "  <tbody>\n",
       "    <tr>\n",
       "      <th>0</th>\n",
       "      <td>83732</td>\n",
       "      <td>1.0</td>\n",
       "      <td>NaN</td>\n",
       "      <td>1.0</td>\n",
       "      <td>1</td>\n",
       "      <td>1</td>\n",
       "      <td>62</td>\n",
       "      <td>3</td>\n",
       "      <td>1.0</td>\n",
       "      <td>5.0</td>\n",
       "      <td>...</td>\n",
       "      <td>124.0</td>\n",
       "      <td>64.0</td>\n",
       "      <td>94.8</td>\n",
       "      <td>184.5</td>\n",
       "      <td>27.8</td>\n",
       "      <td>43.3</td>\n",
       "      <td>43.6</td>\n",
       "      <td>35.9</td>\n",
       "      <td>101.1</td>\n",
       "      <td>2.0</td>\n",
       "    </tr>\n",
       "    <tr>\n",
       "      <th>1</th>\n",
       "      <td>83733</td>\n",
       "      <td>1.0</td>\n",
       "      <td>NaN</td>\n",
       "      <td>6.0</td>\n",
       "      <td>1</td>\n",
       "      <td>1</td>\n",
       "      <td>53</td>\n",
       "      <td>3</td>\n",
       "      <td>2.0</td>\n",
       "      <td>3.0</td>\n",
       "      <td>...</td>\n",
       "      <td>140.0</td>\n",
       "      <td>88.0</td>\n",
       "      <td>90.4</td>\n",
       "      <td>171.4</td>\n",
       "      <td>30.8</td>\n",
       "      <td>38.0</td>\n",
       "      <td>40.0</td>\n",
       "      <td>33.2</td>\n",
       "      <td>107.9</td>\n",
       "      <td>NaN</td>\n",
       "    </tr>\n",
       "    <tr>\n",
       "      <th>2</th>\n",
       "      <td>83734</td>\n",
       "      <td>1.0</td>\n",
       "      <td>NaN</td>\n",
       "      <td>NaN</td>\n",
       "      <td>1</td>\n",
       "      <td>1</td>\n",
       "      <td>78</td>\n",
       "      <td>3</td>\n",
       "      <td>1.0</td>\n",
       "      <td>3.0</td>\n",
       "      <td>...</td>\n",
       "      <td>132.0</td>\n",
       "      <td>44.0</td>\n",
       "      <td>83.4</td>\n",
       "      <td>170.1</td>\n",
       "      <td>28.8</td>\n",
       "      <td>35.6</td>\n",
       "      <td>37.0</td>\n",
       "      <td>31.0</td>\n",
       "      <td>116.5</td>\n",
       "      <td>2.0</td>\n",
       "    </tr>\n",
       "    <tr>\n",
       "      <th>3</th>\n",
       "      <td>83735</td>\n",
       "      <td>2.0</td>\n",
       "      <td>1.0</td>\n",
       "      <td>1.0</td>\n",
       "      <td>2</td>\n",
       "      <td>2</td>\n",
       "      <td>56</td>\n",
       "      <td>3</td>\n",
       "      <td>1.0</td>\n",
       "      <td>5.0</td>\n",
       "      <td>...</td>\n",
       "      <td>134.0</td>\n",
       "      <td>68.0</td>\n",
       "      <td>109.8</td>\n",
       "      <td>160.9</td>\n",
       "      <td>42.4</td>\n",
       "      <td>38.5</td>\n",
       "      <td>37.7</td>\n",
       "      <td>38.3</td>\n",
       "      <td>110.1</td>\n",
       "      <td>2.0</td>\n",
       "    </tr>\n",
       "    <tr>\n",
       "      <th>4</th>\n",
       "      <td>83736</td>\n",
       "      <td>2.0</td>\n",
       "      <td>1.0</td>\n",
       "      <td>1.0</td>\n",
       "      <td>2</td>\n",
       "      <td>2</td>\n",
       "      <td>42</td>\n",
       "      <td>4</td>\n",
       "      <td>1.0</td>\n",
       "      <td>4.0</td>\n",
       "      <td>...</td>\n",
       "      <td>114.0</td>\n",
       "      <td>54.0</td>\n",
       "      <td>55.2</td>\n",
       "      <td>164.9</td>\n",
       "      <td>20.3</td>\n",
       "      <td>37.4</td>\n",
       "      <td>36.0</td>\n",
       "      <td>27.2</td>\n",
       "      <td>80.4</td>\n",
       "      <td>2.0</td>\n",
       "    </tr>\n",
       "  </tbody>\n",
       "</table>\n",
       "<p>5 rows × 28 columns</p>\n",
       "</div>"
      ],
      "text/plain": [
       "    SEQN  ALQ101  ALQ110  ALQ130  SMQ020  RIAGENDR  RIDAGEYR  RIDRETH1  \\\n",
       "0  83732     1.0     NaN     1.0       1         1        62         3   \n",
       "1  83733     1.0     NaN     6.0       1         1        53         3   \n",
       "2  83734     1.0     NaN     NaN       1         1        78         3   \n",
       "3  83735     2.0     1.0     1.0       2         2        56         3   \n",
       "4  83736     2.0     1.0     1.0       2         2        42         4   \n",
       "\n",
       "   DMDCITZN  DMDEDUC2  ...  BPXSY2  BPXDI2  BMXWT  BMXHT  BMXBMI  BMXLEG  \\\n",
       "0       1.0       5.0  ...   124.0    64.0   94.8  184.5    27.8    43.3   \n",
       "1       2.0       3.0  ...   140.0    88.0   90.4  171.4    30.8    38.0   \n",
       "2       1.0       3.0  ...   132.0    44.0   83.4  170.1    28.8    35.6   \n",
       "3       1.0       5.0  ...   134.0    68.0  109.8  160.9    42.4    38.5   \n",
       "4       1.0       4.0  ...   114.0    54.0   55.2  164.9    20.3    37.4   \n",
       "\n",
       "   BMXARML  BMXARMC  BMXWAIST  HIQ210  \n",
       "0     43.6     35.9     101.1     2.0  \n",
       "1     40.0     33.2     107.9     NaN  \n",
       "2     37.0     31.0     116.5     2.0  \n",
       "3     37.7     38.3     110.1     2.0  \n",
       "4     36.0     27.2      80.4     2.0  \n",
       "\n",
       "[5 rows x 28 columns]"
      ]
     },
     "execution_count": 82,
     "metadata": {},
     "output_type": "execute_result"
    }
   ],
   "source": [
    "%matplotlib inline\n",
    "import matplotlib.pyplot as plt\n",
    "import pandas as pd\n",
    "import numpy as np\n",
    "import seaborn as sns\n",
    "import statsmodels.api as sm\n",
    "import scipy.stats as sci\n",
    "da = pd.read_csv(\"nhanes_2015_2016.csv\")\n",
    "\n",
    "da.head()"
   ]
  },
  {
   "cell_type": "markdown",
   "metadata": {},
   "source": [
    "## Question 1\n",
    "\n",
    "Restrict the sample to women between 35 and 50, then use the marital status variable [DMDMARTL](https://wwwn.cdc.gov/Nchs/Nhanes/2015-2016/DEMO_I.htm#DMDMARTL) to partition this sample into two groups - women who are currently married, and women who are not currently married.  Within each of these groups, calculate the proportion of women who have completed college.  Calculate 95% confidence intervals for each of these proportions."
   ]
  },
  {
   "cell_type": "code",
   "execution_count": 90,
   "metadata": {},
   "outputs": [
    {
     "name": "stderr",
     "output_type": "stream",
     "text": [
      "C:\\ProgramData\\Anaconda3\\lib\\site-packages\\ipykernel_launcher.py:4: SettingWithCopyWarning: \n",
      "A value is trying to be set on a copy of a slice from a DataFrame.\n",
      "Try using .loc[row_indexer,col_indexer] = value instead\n",
      "\n",
      "See the caveats in the documentation: https://pandas.pydata.org/pandas-docs/stable/user_guide/indexing.html#returning-a-view-versus-a-copy\n",
      "  after removing the cwd from sys.path.\n",
      "C:\\ProgramData\\Anaconda3\\lib\\site-packages\\ipykernel_launcher.py:5: SettingWithCopyWarning: \n",
      "A value is trying to be set on a copy of a slice from a DataFrame.\n",
      "Try using .loc[row_indexer,col_indexer] = value instead\n",
      "\n",
      "See the caveats in the documentation: https://pandas.pydata.org/pandas-docs/stable/user_guide/indexing.html#returning-a-view-versus-a-copy\n",
      "  \"\"\"\n"
     ]
    },
    {
     "data": {
      "text/html": [
       "<div>\n",
       "<style scoped>\n",
       "    .dataframe tbody tr th:only-of-type {\n",
       "        vertical-align: middle;\n",
       "    }\n",
       "\n",
       "    .dataframe tbody tr th {\n",
       "        vertical-align: top;\n",
       "    }\n",
       "\n",
       "    .dataframe thead th {\n",
       "        text-align: right;\n",
       "    }\n",
       "</style>\n",
       "<table border=\"1\" class=\"dataframe\">\n",
       "  <thead>\n",
       "    <tr style=\"text-align: right;\">\n",
       "      <th></th>\n",
       "      <th>Not College Graduate or above</th>\n",
       "      <th>College Graduate or above</th>\n",
       "    </tr>\n",
       "    <tr>\n",
       "      <th>DMDMARTLx</th>\n",
       "      <th></th>\n",
       "      <th></th>\n",
       "    </tr>\n",
       "  </thead>\n",
       "  <tbody>\n",
       "    <tr>\n",
       "      <th>Currently_Married</th>\n",
       "      <td>287</td>\n",
       "      <td>162</td>\n",
       "    </tr>\n",
       "    <tr>\n",
       "      <th>Not_Currently_Married</th>\n",
       "      <td>266</td>\n",
       "      <td>72</td>\n",
       "    </tr>\n",
       "  </tbody>\n",
       "</table>\n",
       "</div>"
      ],
      "text/plain": [
       "                       Not College Graduate or above  \\\n",
       "DMDMARTLx                                              \n",
       "Currently_Married                                287   \n",
       "Not_Currently_Married                            266   \n",
       "\n",
       "                       College Graduate or above  \n",
       "DMDMARTLx                                         \n",
       "Currently_Married                            162  \n",
       "Not_Currently_Married                         72  "
      ]
     },
     "execution_count": 90,
     "metadata": {},
     "output_type": "execute_result"
    }
   ],
   "source": [
    "# enter your code here\n",
    "da[\"RIAGENDRx\"]=da.RIAGENDR.replace({1:\"Male\",2:\"Female\"})\n",
    "dx=da.loc[(da.RIDAGEYR >=35)& (da.RIDAGEYR<=50) & (da.RIAGENDRx == \"Female\"),:]\n",
    "dx[\"DMDMARTLx\"]=da.DMDMARTL.replace({1:\"Currently_Married\",2:\"Not_Currently_Married\",3:\"Not_Currently_Married\",4:\"Not_Currently_Married\",5:\"Not_Currently_Married\",6:\"Not_Currently_Married\",77:np.nan,99:np.nan})\n",
    "dx['DMDEDUC2x']=da['DMDEDUC2'].replace({5:1,1:0,2:0,3:0,4:0,7:0,9:0})\n",
    "dy=dx[[\"DMDMARTLx\",\"DMDEDUC2x\"]].dropna()\n",
    "p=pd.crosstab(dy.DMDMARTLx, dy.DMDEDUC2x)\n",
    "p.columns=[\"Not College Graduate or above\",\"College Graduate or above\"]\n",
    "p"
   ]
  },
  {
   "cell_type": "markdown",
   "metadata": {},
   "source": [
    "\n",
    "There are 449 married women, 162 of which are graduates\n",
    "The proportion of married women who graduated collage is 0.36080178173719374\n",
    "\n",
    "\n",
    "There are 338 unmarried women, 72 of which are graduates\n",
    "The proportion of married women who didn't graduate collage is 0.21301775147928995"
   ]
  },
  {
   "cell_type": "code",
   "execution_count": 7,
   "metadata": {},
   "outputs": [
    {
     "data": {
      "text/plain": [
       "(0.31638193710753626, 0.4052216263668512)"
      ]
     },
     "execution_count": 7,
     "metadata": {},
     "output_type": "execute_result"
    }
   ],
   "source": [
    "conf_int1= sm.stats.proportion_confint(162,449)\n",
    "conf_int1"
   ]
  },
  {
   "cell_type": "code",
   "execution_count": 9,
   "metadata": {},
   "outputs": [
    {
     "data": {
      "text/plain": [
       "(0.16936816767089768, 0.2566673352876822)"
      ]
     },
     "execution_count": 9,
     "metadata": {},
     "output_type": "execute_result"
    }
   ],
   "source": [
    "conf_int2= sm.stats.proportion_confint(72,338)\n",
    "conf_int2"
   ]
  },
  {
   "cell_type": "markdown",
   "metadata": {},
   "source": [
    "__Q1a.__ Identify which of the two confidence intervals is wider, and explain why this is the case. "
   ]
  },
  {
   "cell_type": "markdown",
   "metadata": {},
   "source": [
    "- the interval for married women is slightly wider\n",
    "- I think it is because the proportion of married women who graduated is higher than non-maried women and its more closer to 0.5 as \"conservative confidance interval\" stats that the closer the proportion to 0.5. the wider the variance"
   ]
  },
  {
   "cell_type": "markdown",
   "metadata": {},
   "source": [
    "__Q1b.__ Write 1-2 sentences summarizing these findings for an audience that does not know what a confidence interval is (the goal here is to report the substance of what you learned about how marital status and educational attainment are related, not to teach a person what a confidence interval is).\n",
    "\n",
    "- Based on our analysis of women aged between 30 to 35 we are 95% confident that the population proportion of currently married woman who have a gollage degree is between 31.64% and 40.52% \n",
    "- in addition to women who are not currently married is between 16.94% and 25.67% "
   ]
  },
  {
   "cell_type": "markdown",
   "metadata": {},
   "source": [
    "## Question 2\n",
    "\n",
    "Construct a 95% confidence interval for the proportion of smokers who are female. Construct a 95% confidence interval for the proportion of smokers who are male. Construct a 95% confidence interval for the **difference** between those two gender proportions."
   ]
  },
  {
   "cell_type": "code",
   "execution_count": 57,
   "metadata": {},
   "outputs": [
    {
     "data": {
      "text/plain": [
       "3     0.0\n",
       "4     0.0\n",
       "5     0.0\n",
       "7     0.0\n",
       "12    1.0\n",
       "Name: SMQ020x, dtype: float64"
      ]
     },
     "execution_count": 57,
     "metadata": {},
     "output_type": "execute_result"
    }
   ],
   "source": [
    "da[\"SMQ020x\"] = da.SMQ020.replace({1: 1, 2: 0, 7: np.nan, 9: np.nan}) \n",
    "f_smoker= da.loc[da.RIAGENDRx==\"Female\",'SMQ020x'].dropna()\n",
    "f_smoker.head()"
   ]
  },
  {
   "cell_type": "code",
   "execution_count": 59,
   "metadata": {},
   "outputs": [
    {
     "data": {
      "text/plain": [
       "(0.2882949879861214, 0.32139545615923526)"
      ]
     },
     "execution_count": 59,
     "metadata": {},
     "output_type": "execute_result"
    }
   ],
   "source": [
    "sm.stats.proportion_confint(sum(f_smoker),len(f_smoker))\n"
   ]
  },
  {
   "cell_type": "code",
   "execution_count": 66,
   "metadata": {},
   "outputs": [
    {
     "data": {
      "text/plain": [
       "0    1.0\n",
       "1    1.0\n",
       "2    1.0\n",
       "6    1.0\n",
       "8    0.0\n",
       "Name: SMQ020x, dtype: float64"
      ]
     },
     "execution_count": 66,
     "metadata": {},
     "output_type": "execute_result"
    }
   ],
   "source": [
    "m_smoker= da.loc[da.RIAGENDRx==\"Male\",\"SMQ020x\"].dropna()\n",
    "m_smoker.head()"
   ]
  },
  {
   "cell_type": "code",
   "execution_count": 67,
   "metadata": {},
   "outputs": [
    {
     "data": {
      "text/plain": [
       "(0.49458749263718593, 0.5319290347874418)"
      ]
     },
     "execution_count": 67,
     "metadata": {},
     "output_type": "execute_result"
    }
   ],
   "source": [
    "sm.stats.proportion_confint(sum(m_smoker),len(m_smoker))"
   ]
  },
  {
   "cell_type": "code",
   "execution_count": 71,
   "metadata": {},
   "outputs": [
    {
     "data": {
      "text/plain": [
       "0.5132582637123139"
      ]
     },
     "execution_count": 71,
     "metadata": {},
     "output_type": "execute_result"
    }
   ],
   "source": [
    "pm= len(m_smoker.loc[m_smoker==1])/len(m_smoker)\n",
    "pm"
   ]
  },
  {
   "cell_type": "markdown",
   "metadata": {},
   "source": [
    "#### the proportion of men who smokes is 51.3%"
   ]
  },
  {
   "cell_type": "code",
   "execution_count": 73,
   "metadata": {},
   "outputs": [
    {
     "data": {
      "text/plain": [
       "0.30484522207267833"
      ]
     },
     "execution_count": 73,
     "metadata": {},
     "output_type": "execute_result"
    }
   ],
   "source": [
    "pf= len(f_smoker.loc[f_smoker==1])/len(f_smoker)\n",
    "pf"
   ]
  },
  {
   "cell_type": "markdown",
   "metadata": {},
   "source": [
    "#### the proportion of women who smokes is 30.48%"
   ]
  },
  {
   "cell_type": "code",
   "execution_count": 74,
   "metadata": {},
   "outputs": [
    {
     "data": {
      "text/plain": [
       "0.012729881381407434"
      ]
     },
     "execution_count": 74,
     "metadata": {},
     "output_type": "execute_result"
    }
   ],
   "source": [
    "f_se = np.sqrt((pf * (1-pf))/len(f_smoker))\n",
    "m_se = np.sqrt((pm * (1-pm))/len(m_smoker))\n",
    "se_diff = np.sqrt(f_se**2 + m_se**2)\n",
    "se_diff"
   ]
  },
  {
   "cell_type": "code",
   "execution_count": 77,
   "metadata": {},
   "outputs": [
    {
     "data": {
      "text/plain": [
       "(0.18346247413207697, 0.2333636091471941)"
      ]
     },
     "execution_count": 77,
     "metadata": {},
     "output_type": "execute_result"
    }
   ],
   "source": [
    "d = pm - pf\n",
    "lcb = d - 1.96 * se_diff\n",
    "ucb = d + 1.96 * se_diff\n",
    "(lcb, ucb)\n"
   ]
  },
  {
   "cell_type": "markdown",
   "metadata": {},
   "source": [
    "__Q2a.__ Why might it be relevant to report the separate gender proportions **and** the difference between the gender proportions?\n",
    "\n",
    "- Separate gender proportions provide insights of each gender's smoking habits.\n",
    "- The proportion difference indicates that almost half of the men are smokers, while only 30% of women are smokers.\n"
   ]
  },
  {
   "cell_type": "markdown",
   "metadata": {},
   "source": [
    "__Q2b.__ How does the **width** of the confidence interval for the difference between the gender proportions compare to the widths of the confidence intervals for the separate gender proportions?\n",
    "\n",
    "- the confidence intervals for the differance between the two population is wider than in seperate gender proportions , this indicates that it has large margin of error"
   ]
  },
  {
   "cell_type": "markdown",
   "metadata": {},
   "source": [
    "## Question 3\n",
    "\n",
    "Construct a 95% interval for height ([BMXHT](https://wwwn.cdc.gov/Nchs/Nhanes/2015-2016/BMX_I.htm#BMXHT)) in centimeters.  Then convert height from centimeters to inches by dividing by 2.54, and construct a 95% confidence interval for height in inches.  Finally, convert the endpoints (the lower and upper confidence limits) of the confidence interval from inches to back to centimeters   "
   ]
  },
  {
   "cell_type": "code",
   "execution_count": 83,
   "metadata": {},
   "outputs": [],
   "source": [
    "def get_ci(col):\n",
    "    \n",
    "    mean = np.mean(col)\n",
    "    std = np.std(col)\n",
    "    df = len(col)-1\n",
    "    t_star = sci.t.ppf(0.95,df)\n",
    "    se = std / np.sqrt(len(col))\n",
    "    lb = mean - t_star * se\n",
    "    ub = mean + t_star *se \n",
    "    \n",
    "    return (lb,ub)"
   ]
  },
  {
   "cell_type": "code",
   "execution_count": 84,
   "metadata": {},
   "outputs": [
    {
     "data": {
      "text/plain": [
       "(165.923896430169, 166.36177252805362)"
      ]
     },
     "execution_count": 84,
     "metadata": {},
     "output_type": "execute_result"
    }
   ],
   "source": [
    "get_ci(da.BMXHT)"
   ]
  },
  {
   "cell_type": "code",
   "execution_count": 85,
   "metadata": {},
   "outputs": [
    {
     "data": {
      "text/plain": [
       "(65.32436867329481, 65.49676083781632)"
      ]
     },
     "execution_count": 85,
     "metadata": {},
     "output_type": "execute_result"
    }
   ],
   "source": [
    "get_ci(da.BMXHT/2.54)"
   ]
  },
  {
   "cell_type": "code",
   "execution_count": 86,
   "metadata": {},
   "outputs": [
    {
     "data": {
      "text/plain": [
       "2.5400000000000005"
      ]
     },
     "execution_count": 86,
     "metadata": {},
     "output_type": "execute_result"
    }
   ],
   "source": [
    "165.9238964301693/65.32436867329498"
   ]
  },
  {
   "cell_type": "markdown",
   "metadata": {},
   "source": [
    "__Q3a.__ Describe how the confidence interval constructed in centimeters relates to the confidence interval constructed in inches.\n",
    "\n",
    "- **The confidende interval of the height in cm is 2.54 * the confidence interval of the height in inches.**"
   ]
  },
  {
   "cell_type": "markdown",
   "metadata": {},
   "source": [
    "## Question 4\n",
    "\n",
    "Partition the sample based on 10-year age bands, i.e. the resulting groups will consist of people with ages from 18-28, 29-38, etc. Construct 95% confidence intervals for the difference between the mean BMI for females and for males within each age band."
   ]
  },
  {
   "cell_type": "code",
   "execution_count": 97,
   "metadata": {},
   "outputs": [],
   "source": [
    "df = da[da['RIAGENDRx'].isin(['Female', 'Male'])].copy()"
   ]
  },
  {
   "cell_type": "code",
   "execution_count": 98,
   "metadata": {},
   "outputs": [
    {
     "data": {
      "text/html": [
       "<div>\n",
       "<style scoped>\n",
       "    .dataframe tbody tr th:only-of-type {\n",
       "        vertical-align: middle;\n",
       "    }\n",
       "\n",
       "    .dataframe tbody tr th {\n",
       "        vertical-align: top;\n",
       "    }\n",
       "\n",
       "    .dataframe thead th {\n",
       "        text-align: right;\n",
       "    }\n",
       "</style>\n",
       "<table border=\"1\" class=\"dataframe\">\n",
       "  <thead>\n",
       "    <tr style=\"text-align: right;\">\n",
       "      <th></th>\n",
       "      <th>SEQN</th>\n",
       "      <th>ALQ101</th>\n",
       "      <th>ALQ110</th>\n",
       "      <th>ALQ130</th>\n",
       "      <th>SMQ020</th>\n",
       "      <th>RIAGENDR</th>\n",
       "      <th>RIDAGEYR</th>\n",
       "      <th>RIDRETH1</th>\n",
       "      <th>DMDCITZN</th>\n",
       "      <th>DMDEDUC2</th>\n",
       "      <th>...</th>\n",
       "      <th>BMXWT</th>\n",
       "      <th>BMXHT</th>\n",
       "      <th>BMXBMI</th>\n",
       "      <th>BMXLEG</th>\n",
       "      <th>BMXARML</th>\n",
       "      <th>BMXARMC</th>\n",
       "      <th>BMXWAIST</th>\n",
       "      <th>HIQ210</th>\n",
       "      <th>RIAGENDRx</th>\n",
       "      <th>AGEGRP</th>\n",
       "    </tr>\n",
       "  </thead>\n",
       "  <tbody>\n",
       "    <tr>\n",
       "      <th>0</th>\n",
       "      <td>83732</td>\n",
       "      <td>1.0</td>\n",
       "      <td>NaN</td>\n",
       "      <td>1.0</td>\n",
       "      <td>1</td>\n",
       "      <td>1</td>\n",
       "      <td>62</td>\n",
       "      <td>3</td>\n",
       "      <td>1.0</td>\n",
       "      <td>5.0</td>\n",
       "      <td>...</td>\n",
       "      <td>94.8</td>\n",
       "      <td>184.5</td>\n",
       "      <td>27.8</td>\n",
       "      <td>43.3</td>\n",
       "      <td>43.6</td>\n",
       "      <td>35.9</td>\n",
       "      <td>101.1</td>\n",
       "      <td>2.0</td>\n",
       "      <td>Male</td>\n",
       "      <td>(59, 69]</td>\n",
       "    </tr>\n",
       "    <tr>\n",
       "      <th>1</th>\n",
       "      <td>83733</td>\n",
       "      <td>1.0</td>\n",
       "      <td>NaN</td>\n",
       "      <td>6.0</td>\n",
       "      <td>1</td>\n",
       "      <td>1</td>\n",
       "      <td>53</td>\n",
       "      <td>3</td>\n",
       "      <td>2.0</td>\n",
       "      <td>3.0</td>\n",
       "      <td>...</td>\n",
       "      <td>90.4</td>\n",
       "      <td>171.4</td>\n",
       "      <td>30.8</td>\n",
       "      <td>38.0</td>\n",
       "      <td>40.0</td>\n",
       "      <td>33.2</td>\n",
       "      <td>107.9</td>\n",
       "      <td>NaN</td>\n",
       "      <td>Male</td>\n",
       "      <td>(49, 59]</td>\n",
       "    </tr>\n",
       "    <tr>\n",
       "      <th>2</th>\n",
       "      <td>83734</td>\n",
       "      <td>1.0</td>\n",
       "      <td>NaN</td>\n",
       "      <td>NaN</td>\n",
       "      <td>1</td>\n",
       "      <td>1</td>\n",
       "      <td>78</td>\n",
       "      <td>3</td>\n",
       "      <td>1.0</td>\n",
       "      <td>3.0</td>\n",
       "      <td>...</td>\n",
       "      <td>83.4</td>\n",
       "      <td>170.1</td>\n",
       "      <td>28.8</td>\n",
       "      <td>35.6</td>\n",
       "      <td>37.0</td>\n",
       "      <td>31.0</td>\n",
       "      <td>116.5</td>\n",
       "      <td>2.0</td>\n",
       "      <td>Male</td>\n",
       "      <td>(69, 80]</td>\n",
       "    </tr>\n",
       "    <tr>\n",
       "      <th>3</th>\n",
       "      <td>83735</td>\n",
       "      <td>2.0</td>\n",
       "      <td>1.0</td>\n",
       "      <td>1.0</td>\n",
       "      <td>2</td>\n",
       "      <td>2</td>\n",
       "      <td>56</td>\n",
       "      <td>3</td>\n",
       "      <td>1.0</td>\n",
       "      <td>5.0</td>\n",
       "      <td>...</td>\n",
       "      <td>109.8</td>\n",
       "      <td>160.9</td>\n",
       "      <td>42.4</td>\n",
       "      <td>38.5</td>\n",
       "      <td>37.7</td>\n",
       "      <td>38.3</td>\n",
       "      <td>110.1</td>\n",
       "      <td>2.0</td>\n",
       "      <td>Female</td>\n",
       "      <td>(49, 59]</td>\n",
       "    </tr>\n",
       "    <tr>\n",
       "      <th>4</th>\n",
       "      <td>83736</td>\n",
       "      <td>2.0</td>\n",
       "      <td>1.0</td>\n",
       "      <td>1.0</td>\n",
       "      <td>2</td>\n",
       "      <td>2</td>\n",
       "      <td>42</td>\n",
       "      <td>4</td>\n",
       "      <td>1.0</td>\n",
       "      <td>4.0</td>\n",
       "      <td>...</td>\n",
       "      <td>55.2</td>\n",
       "      <td>164.9</td>\n",
       "      <td>20.3</td>\n",
       "      <td>37.4</td>\n",
       "      <td>36.0</td>\n",
       "      <td>27.2</td>\n",
       "      <td>80.4</td>\n",
       "      <td>2.0</td>\n",
       "      <td>Female</td>\n",
       "      <td>(39, 49]</td>\n",
       "    </tr>\n",
       "  </tbody>\n",
       "</table>\n",
       "<p>5 rows × 30 columns</p>\n",
       "</div>"
      ],
      "text/plain": [
       "    SEQN  ALQ101  ALQ110  ALQ130  SMQ020  RIAGENDR  RIDAGEYR  RIDRETH1  \\\n",
       "0  83732     1.0     NaN     1.0       1         1        62         3   \n",
       "1  83733     1.0     NaN     6.0       1         1        53         3   \n",
       "2  83734     1.0     NaN     NaN       1         1        78         3   \n",
       "3  83735     2.0     1.0     1.0       2         2        56         3   \n",
       "4  83736     2.0     1.0     1.0       2         2        42         4   \n",
       "\n",
       "   DMDCITZN  DMDEDUC2  ...  BMXWT  BMXHT  BMXBMI  BMXLEG  BMXARML  BMXARMC  \\\n",
       "0       1.0       5.0  ...   94.8  184.5    27.8    43.3     43.6     35.9   \n",
       "1       2.0       3.0  ...   90.4  171.4    30.8    38.0     40.0     33.2   \n",
       "2       1.0       3.0  ...   83.4  170.1    28.8    35.6     37.0     31.0   \n",
       "3       1.0       5.0  ...  109.8  160.9    42.4    38.5     37.7     38.3   \n",
       "4       1.0       4.0  ...   55.2  164.9    20.3    37.4     36.0     27.2   \n",
       "\n",
       "   BMXWAIST  HIQ210  RIAGENDRx    AGEGRP  \n",
       "0     101.1     2.0       Male  (59, 69]  \n",
       "1     107.9     NaN       Male  (49, 59]  \n",
       "2     116.5     2.0       Male  (69, 80]  \n",
       "3     110.1     2.0     Female  (49, 59]  \n",
       "4      80.4     2.0     Female  (39, 49]  \n",
       "\n",
       "[5 rows x 30 columns]"
      ]
     },
     "execution_count": 98,
     "metadata": {},
     "output_type": "execute_result"
    }
   ],
   "source": [
    "df[\"AGEGRP\"]=pd.cut(df.RIDAGEYR,[18,29,39,49,59,69,80])\n",
    "df.head()"
   ]
  },
  {
   "cell_type": "code",
   "execution_count": 100,
   "metadata": {},
   "outputs": [
    {
     "data": {
      "text/html": [
       "<div>\n",
       "<style scoped>\n",
       "    .dataframe tbody tr th:only-of-type {\n",
       "        vertical-align: middle;\n",
       "    }\n",
       "\n",
       "    .dataframe tbody tr th {\n",
       "        vertical-align: top;\n",
       "    }\n",
       "\n",
       "    .dataframe thead tr th {\n",
       "        text-align: left;\n",
       "    }\n",
       "\n",
       "    .dataframe thead tr:last-of-type th {\n",
       "        text-align: right;\n",
       "    }\n",
       "</style>\n",
       "<table border=\"1\" class=\"dataframe\">\n",
       "  <thead>\n",
       "    <tr>\n",
       "      <th></th>\n",
       "      <th colspan=\"6\" halign=\"left\">BMXBMI</th>\n",
       "    </tr>\n",
       "    <tr>\n",
       "      <th></th>\n",
       "      <th colspan=\"2\" halign=\"left\">mean</th>\n",
       "      <th colspan=\"2\" halign=\"left\">std</th>\n",
       "      <th colspan=\"2\" halign=\"left\">size</th>\n",
       "    </tr>\n",
       "    <tr>\n",
       "      <th>RIAGENDRx</th>\n",
       "      <th>Female</th>\n",
       "      <th>Male</th>\n",
       "      <th>Female</th>\n",
       "      <th>Male</th>\n",
       "      <th>Female</th>\n",
       "      <th>Male</th>\n",
       "    </tr>\n",
       "    <tr>\n",
       "      <th>AGEGRP</th>\n",
       "      <th></th>\n",
       "      <th></th>\n",
       "      <th></th>\n",
       "      <th></th>\n",
       "      <th></th>\n",
       "      <th></th>\n",
       "    </tr>\n",
       "  </thead>\n",
       "  <tbody>\n",
       "    <tr>\n",
       "      <th>(18, 29]</th>\n",
       "      <td>28.082450</td>\n",
       "      <td>27.230677</td>\n",
       "      <td>7.890613</td>\n",
       "      <td>6.587966</td>\n",
       "      <td>551.0</td>\n",
       "      <td>508.0</td>\n",
       "    </tr>\n",
       "    <tr>\n",
       "      <th>(29, 39]</th>\n",
       "      <td>30.208211</td>\n",
       "      <td>29.772422</td>\n",
       "      <td>8.192074</td>\n",
       "      <td>6.825048</td>\n",
       "      <td>481.0</td>\n",
       "      <td>452.0</td>\n",
       "    </tr>\n",
       "    <tr>\n",
       "      <th>(39, 49]</th>\n",
       "      <td>30.922332</td>\n",
       "      <td>29.563409</td>\n",
       "      <td>7.911045</td>\n",
       "      <td>6.179002</td>\n",
       "      <td>511.0</td>\n",
       "      <td>402.0</td>\n",
       "    </tr>\n",
       "    <tr>\n",
       "      <th>(49, 59]</th>\n",
       "      <td>30.864732</td>\n",
       "      <td>29.193807</td>\n",
       "      <td>7.584018</td>\n",
       "      <td>5.974769</td>\n",
       "      <td>451.0</td>\n",
       "      <td>437.0</td>\n",
       "    </tr>\n",
       "    <tr>\n",
       "      <th>(59, 69]</th>\n",
       "      <td>31.029806</td>\n",
       "      <td>29.322426</td>\n",
       "      <td>7.799010</td>\n",
       "      <td>5.904651</td>\n",
       "      <td>468.0</td>\n",
       "      <td>449.0</td>\n",
       "    </tr>\n",
       "    <tr>\n",
       "      <th>(69, 80]</th>\n",
       "      <td>29.284897</td>\n",
       "      <td>28.214483</td>\n",
       "      <td>6.398495</td>\n",
       "      <td>5.201107</td>\n",
       "      <td>444.0</td>\n",
       "      <td>448.0</td>\n",
       "    </tr>\n",
       "  </tbody>\n",
       "</table>\n",
       "</div>"
      ],
      "text/plain": [
       "              BMXBMI                                             \n",
       "                mean                  std             size       \n",
       "RIAGENDRx     Female       Male    Female      Male Female   Male\n",
       "AGEGRP                                                           \n",
       "(18, 29]   28.082450  27.230677  7.890613  6.587966  551.0  508.0\n",
       "(29, 39]   30.208211  29.772422  8.192074  6.825048  481.0  452.0\n",
       "(39, 49]   30.922332  29.563409  7.911045  6.179002  511.0  402.0\n",
       "(49, 59]   30.864732  29.193807  7.584018  5.974769  451.0  437.0\n",
       "(59, 69]   31.029806  29.322426  7.799010  5.904651  468.0  449.0\n",
       "(69, 80]   29.284897  28.214483  6.398495  5.201107  444.0  448.0"
      ]
     },
     "execution_count": 100,
     "metadata": {},
     "output_type": "execute_result"
    }
   ],
   "source": [
    "pr = df.groupby([\"AGEGRP\",'RIAGENDRx']).agg({\"BMXBMI\":[np.mean,np.std,np.size]}).unstack()\n",
    "pr"
   ]
  },
  {
   "cell_type": "code",
   "execution_count": 101,
   "metadata": {},
   "outputs": [
    {
     "data": {
      "text/html": [
       "<div>\n",
       "<style scoped>\n",
       "    .dataframe tbody tr th:only-of-type {\n",
       "        vertical-align: middle;\n",
       "    }\n",
       "\n",
       "    .dataframe tbody tr th {\n",
       "        vertical-align: top;\n",
       "    }\n",
       "\n",
       "    .dataframe thead tr th {\n",
       "        text-align: left;\n",
       "    }\n",
       "\n",
       "    .dataframe thead tr:last-of-type th {\n",
       "        text-align: right;\n",
       "    }\n",
       "</style>\n",
       "<table border=\"1\" class=\"dataframe\">\n",
       "  <thead>\n",
       "    <tr>\n",
       "      <th></th>\n",
       "      <th colspan=\"8\" halign=\"left\">BMXBMI</th>\n",
       "    </tr>\n",
       "    <tr>\n",
       "      <th></th>\n",
       "      <th colspan=\"2\" halign=\"left\">mean</th>\n",
       "      <th colspan=\"2\" halign=\"left\">std</th>\n",
       "      <th colspan=\"2\" halign=\"left\">size</th>\n",
       "      <th colspan=\"2\" halign=\"left\">sem</th>\n",
       "    </tr>\n",
       "    <tr>\n",
       "      <th>RIAGENDRx</th>\n",
       "      <th>Female</th>\n",
       "      <th>Male</th>\n",
       "      <th>Female</th>\n",
       "      <th>Male</th>\n",
       "      <th>Female</th>\n",
       "      <th>Male</th>\n",
       "      <th>Female</th>\n",
       "      <th>Male</th>\n",
       "    </tr>\n",
       "    <tr>\n",
       "      <th>AGEGRP</th>\n",
       "      <th></th>\n",
       "      <th></th>\n",
       "      <th></th>\n",
       "      <th></th>\n",
       "      <th></th>\n",
       "      <th></th>\n",
       "      <th></th>\n",
       "      <th></th>\n",
       "    </tr>\n",
       "  </thead>\n",
       "  <tbody>\n",
       "    <tr>\n",
       "      <th>(18, 29]</th>\n",
       "      <td>28.082450</td>\n",
       "      <td>27.230677</td>\n",
       "      <td>7.890613</td>\n",
       "      <td>6.587966</td>\n",
       "      <td>551.0</td>\n",
       "      <td>508.0</td>\n",
       "      <td>0.336151</td>\n",
       "      <td>0.292294</td>\n",
       "    </tr>\n",
       "    <tr>\n",
       "      <th>(29, 39]</th>\n",
       "      <td>30.208211</td>\n",
       "      <td>29.772422</td>\n",
       "      <td>8.192074</td>\n",
       "      <td>6.825048</td>\n",
       "      <td>481.0</td>\n",
       "      <td>452.0</td>\n",
       "      <td>0.373526</td>\n",
       "      <td>0.321023</td>\n",
       "    </tr>\n",
       "    <tr>\n",
       "      <th>(39, 49]</th>\n",
       "      <td>30.922332</td>\n",
       "      <td>29.563409</td>\n",
       "      <td>7.911045</td>\n",
       "      <td>6.179002</td>\n",
       "      <td>511.0</td>\n",
       "      <td>402.0</td>\n",
       "      <td>0.349964</td>\n",
       "      <td>0.308181</td>\n",
       "    </tr>\n",
       "    <tr>\n",
       "      <th>(49, 59]</th>\n",
       "      <td>30.864732</td>\n",
       "      <td>29.193807</td>\n",
       "      <td>7.584018</td>\n",
       "      <td>5.974769</td>\n",
       "      <td>451.0</td>\n",
       "      <td>437.0</td>\n",
       "      <td>0.357117</td>\n",
       "      <td>0.285812</td>\n",
       "    </tr>\n",
       "    <tr>\n",
       "      <th>(59, 69]</th>\n",
       "      <td>31.029806</td>\n",
       "      <td>29.322426</td>\n",
       "      <td>7.799010</td>\n",
       "      <td>5.904651</td>\n",
       "      <td>468.0</td>\n",
       "      <td>449.0</td>\n",
       "      <td>0.360509</td>\n",
       "      <td>0.278658</td>\n",
       "    </tr>\n",
       "    <tr>\n",
       "      <th>(69, 80]</th>\n",
       "      <td>29.284897</td>\n",
       "      <td>28.214483</td>\n",
       "      <td>6.398495</td>\n",
       "      <td>5.201107</td>\n",
       "      <td>444.0</td>\n",
       "      <td>448.0</td>\n",
       "      <td>0.303659</td>\n",
       "      <td>0.245729</td>\n",
       "    </tr>\n",
       "  </tbody>\n",
       "</table>\n",
       "</div>"
      ],
      "text/plain": [
       "              BMXBMI                                                         \\\n",
       "                mean                  std             size              sem   \n",
       "RIAGENDRx     Female       Male    Female      Male Female   Male    Female   \n",
       "AGEGRP                                                                        \n",
       "(18, 29]   28.082450  27.230677  7.890613  6.587966  551.0  508.0  0.336151   \n",
       "(29, 39]   30.208211  29.772422  8.192074  6.825048  481.0  452.0  0.373526   \n",
       "(39, 49]   30.922332  29.563409  7.911045  6.179002  511.0  402.0  0.349964   \n",
       "(49, 59]   30.864732  29.193807  7.584018  5.974769  451.0  437.0  0.357117   \n",
       "(59, 69]   31.029806  29.322426  7.799010  5.904651  468.0  449.0  0.360509   \n",
       "(69, 80]   29.284897  28.214483  6.398495  5.201107  444.0  448.0  0.303659   \n",
       "\n",
       "                     \n",
       "                     \n",
       "RIAGENDRx      Male  \n",
       "AGEGRP               \n",
       "(18, 29]   0.292294  \n",
       "(29, 39]   0.321023  \n",
       "(39, 49]   0.308181  \n",
       "(49, 59]   0.285812  \n",
       "(59, 69]   0.278658  \n",
       "(69, 80]   0.245729  "
      ]
     },
     "execution_count": 101,
     "metadata": {},
     "output_type": "execute_result"
    }
   ],
   "source": [
    "# Calculate the SEM for females and for males within each age band\n",
    "pr[\"BMXBMI\",\"sem\",\"Female\"]=pr[\"BMXBMI\",\"std\",\"Female\"]/np.sqrt(pr[\"BMXBMI\",\"size\",\"Female\"])\n",
    "pr[\"BMXBMI\",\"sem\",\"Male\"]=pr[\"BMXBMI\",\"std\",\"Male\"]/np.sqrt(pr[\"BMXBMI\",\"size\",\"Male\"])\n",
    "pr"
   ]
  },
  {
   "cell_type": "code",
   "execution_count": 104,
   "metadata": {},
   "outputs": [
    {
     "data": {
      "text/html": [
       "<div>\n",
       "<style scoped>\n",
       "    .dataframe tbody tr th:only-of-type {\n",
       "        vertical-align: middle;\n",
       "    }\n",
       "\n",
       "    .dataframe tbody tr th {\n",
       "        vertical-align: top;\n",
       "    }\n",
       "\n",
       "    .dataframe thead tr th {\n",
       "        text-align: left;\n",
       "    }\n",
       "\n",
       "    .dataframe thead tr:last-of-type th {\n",
       "        text-align: right;\n",
       "    }\n",
       "</style>\n",
       "<table border=\"1\" class=\"dataframe\">\n",
       "  <thead>\n",
       "    <tr>\n",
       "      <th></th>\n",
       "      <th colspan=\"13\" halign=\"left\">BMXBMI</th>\n",
       "    </tr>\n",
       "    <tr>\n",
       "      <th></th>\n",
       "      <th colspan=\"2\" halign=\"left\">mean</th>\n",
       "      <th colspan=\"2\" halign=\"left\">std</th>\n",
       "      <th colspan=\"2\" halign=\"left\">size</th>\n",
       "      <th colspan=\"2\" halign=\"left\">sem</th>\n",
       "      <th>mean_diff</th>\n",
       "      <th>sem_diff</th>\n",
       "      <th>lcb_diff</th>\n",
       "      <th>ucb_diff</th>\n",
       "      <th>width</th>\n",
       "    </tr>\n",
       "    <tr>\n",
       "      <th>RIAGENDRx</th>\n",
       "      <th>Female</th>\n",
       "      <th>Male</th>\n",
       "      <th>Female</th>\n",
       "      <th>Male</th>\n",
       "      <th>Female</th>\n",
       "      <th>Male</th>\n",
       "      <th>Female</th>\n",
       "      <th>Male</th>\n",
       "      <th></th>\n",
       "      <th></th>\n",
       "      <th></th>\n",
       "      <th></th>\n",
       "      <th></th>\n",
       "    </tr>\n",
       "    <tr>\n",
       "      <th>AGEGRP</th>\n",
       "      <th></th>\n",
       "      <th></th>\n",
       "      <th></th>\n",
       "      <th></th>\n",
       "      <th></th>\n",
       "      <th></th>\n",
       "      <th></th>\n",
       "      <th></th>\n",
       "      <th></th>\n",
       "      <th></th>\n",
       "      <th></th>\n",
       "      <th></th>\n",
       "      <th></th>\n",
       "    </tr>\n",
       "  </thead>\n",
       "  <tbody>\n",
       "    <tr>\n",
       "      <th>(18, 29]</th>\n",
       "      <td>28.082450</td>\n",
       "      <td>27.230677</td>\n",
       "      <td>7.890613</td>\n",
       "      <td>6.587966</td>\n",
       "      <td>551.0</td>\n",
       "      <td>508.0</td>\n",
       "      <td>0.336151</td>\n",
       "      <td>0.292294</td>\n",
       "      <td>0.851772</td>\n",
       "      <td>0.445459</td>\n",
       "      <td>-0.021326</td>\n",
       "      <td>1.724871</td>\n",
       "      <td>1.746198</td>\n",
       "    </tr>\n",
       "    <tr>\n",
       "      <th>(29, 39]</th>\n",
       "      <td>30.208211</td>\n",
       "      <td>29.772422</td>\n",
       "      <td>8.192074</td>\n",
       "      <td>6.825048</td>\n",
       "      <td>481.0</td>\n",
       "      <td>452.0</td>\n",
       "      <td>0.373526</td>\n",
       "      <td>0.321023</td>\n",
       "      <td>0.435789</td>\n",
       "      <td>0.492522</td>\n",
       "      <td>-0.529554</td>\n",
       "      <td>1.401132</td>\n",
       "      <td>1.930686</td>\n",
       "    </tr>\n",
       "    <tr>\n",
       "      <th>(39, 49]</th>\n",
       "      <td>30.922332</td>\n",
       "      <td>29.563409</td>\n",
       "      <td>7.911045</td>\n",
       "      <td>6.179002</td>\n",
       "      <td>511.0</td>\n",
       "      <td>402.0</td>\n",
       "      <td>0.349964</td>\n",
       "      <td>0.308181</td>\n",
       "      <td>1.358923</td>\n",
       "      <td>0.466315</td>\n",
       "      <td>0.444945</td>\n",
       "      <td>2.272902</td>\n",
       "      <td>1.827957</td>\n",
       "    </tr>\n",
       "    <tr>\n",
       "      <th>(49, 59]</th>\n",
       "      <td>30.864732</td>\n",
       "      <td>29.193807</td>\n",
       "      <td>7.584018</td>\n",
       "      <td>5.974769</td>\n",
       "      <td>451.0</td>\n",
       "      <td>437.0</td>\n",
       "      <td>0.357117</td>\n",
       "      <td>0.285812</td>\n",
       "      <td>1.670925</td>\n",
       "      <td>0.457407</td>\n",
       "      <td>0.774407</td>\n",
       "      <td>2.567443</td>\n",
       "      <td>1.793036</td>\n",
       "    </tr>\n",
       "    <tr>\n",
       "      <th>(59, 69]</th>\n",
       "      <td>31.029806</td>\n",
       "      <td>29.322426</td>\n",
       "      <td>7.799010</td>\n",
       "      <td>5.904651</td>\n",
       "      <td>468.0</td>\n",
       "      <td>449.0</td>\n",
       "      <td>0.360509</td>\n",
       "      <td>0.278658</td>\n",
       "      <td>1.707380</td>\n",
       "      <td>0.455650</td>\n",
       "      <td>0.814306</td>\n",
       "      <td>2.600454</td>\n",
       "      <td>1.786149</td>\n",
       "    </tr>\n",
       "    <tr>\n",
       "      <th>(69, 80]</th>\n",
       "      <td>29.284897</td>\n",
       "      <td>28.214483</td>\n",
       "      <td>6.398495</td>\n",
       "      <td>5.201107</td>\n",
       "      <td>444.0</td>\n",
       "      <td>448.0</td>\n",
       "      <td>0.303659</td>\n",
       "      <td>0.245729</td>\n",
       "      <td>1.070414</td>\n",
       "      <td>0.390630</td>\n",
       "      <td>0.304780</td>\n",
       "      <td>1.836049</td>\n",
       "      <td>1.531269</td>\n",
       "    </tr>\n",
       "  </tbody>\n",
       "</table>\n",
       "</div>"
      ],
      "text/plain": [
       "              BMXBMI                                                         \\\n",
       "                mean                  std             size              sem   \n",
       "RIAGENDRx     Female       Male    Female      Male Female   Male    Female   \n",
       "AGEGRP                                                                        \n",
       "(18, 29]   28.082450  27.230677  7.890613  6.587966  551.0  508.0  0.336151   \n",
       "(29, 39]   30.208211  29.772422  8.192074  6.825048  481.0  452.0  0.373526   \n",
       "(39, 49]   30.922332  29.563409  7.911045  6.179002  511.0  402.0  0.349964   \n",
       "(49, 59]   30.864732  29.193807  7.584018  5.974769  451.0  437.0  0.357117   \n",
       "(59, 69]   31.029806  29.322426  7.799010  5.904651  468.0  449.0  0.360509   \n",
       "(69, 80]   29.284897  28.214483  6.398495  5.201107  444.0  448.0  0.303659   \n",
       "\n",
       "                                                                       \n",
       "                    mean_diff  sem_diff  lcb_diff  ucb_diff     width  \n",
       "RIAGENDRx      Male                                                    \n",
       "AGEGRP                                                                 \n",
       "(18, 29]   0.292294  0.851772  0.445459 -0.021326  1.724871  1.746198  \n",
       "(29, 39]   0.321023  0.435789  0.492522 -0.529554  1.401132  1.930686  \n",
       "(39, 49]   0.308181  1.358923  0.466315  0.444945  2.272902  1.827957  \n",
       "(49, 59]   0.285812  1.670925  0.457407  0.774407  2.567443  1.793036  \n",
       "(59, 69]   0.278658  1.707380  0.455650  0.814306  2.600454  1.786149  \n",
       "(69, 80]   0.245729  1.070414  0.390630  0.304780  1.836049  1.531269  "
      ]
     },
     "execution_count": 104,
     "metadata": {},
     "output_type": "execute_result"
    }
   ],
   "source": [
    "# Calculate the mean difference of BMI between females and males within each age band, also  calculate\n",
    "# its SE and the lower and upper limits of its 95% CI.\n",
    "pr[\"BMXBMI\",\"mean_diff\",\"\"]= pr[\"BMXBMI\",\"mean\",\"Female\"] - pr[\"BMXBMI\",\"mean\",\"Male\"]\n",
    "pr[\"BMXBMI\",\"sem_diff\",\"\"] = np.sqrt(pr[\"BMXBMI\",\"sem\",\"Female\"]**2 + pr[\"BMXBMI\",\"sem\",\"Male\"]**2)\n",
    "pr[\"BMXBMI\", \"lcb_diff\", \"\"] = pr[\"BMXBMI\", \"mean_diff\", \"\"] - 1.96 * pr[\"BMXBMI\", \"sem_diff\", \"\"] \n",
    "pr[\"BMXBMI\", \"ucb_diff\", \"\"] = pr[\"BMXBMI\", \"mean_diff\", \"\"] + 1.96 * pr[\"BMXBMI\", \"sem_diff\", \"\"] \n",
    "pr[\"BMXBMI\", \"width\", \"\"] = pr[\"BMXBMI\", \"ucb_diff\", \"\"] - pr[\"BMXBMI\", \"lcb_diff\", \"\"]\n",
    "pr"
   ]
  },
  {
   "cell_type": "markdown",
   "metadata": {},
   "source": [
    "__Q4a.__ How do the widths of these confidence intervals differ?  Provide an explanation for any substantial diferences in the confidence interval widths that you see.\n",
    "   - in the first two age groups from 18 to 39 years their is no statistical diferance in bmi in females and males , but the rest age groups their is an evidance that females bmi is larger than males bmi"
   ]
  },
  {
   "cell_type": "markdown",
   "metadata": {},
   "source": [
    "## Question 5\n",
    "\n",
    "Construct a 95% confidence interval for the first and second systolic blood pressure measures, and for the difference between the first and second systolic blood pressure measurements within a subject."
   ]
  },
  {
   "cell_type": "code",
   "execution_count": 108,
   "metadata": {},
   "outputs": [
    {
     "data": {
      "text/plain": [
       "(124.59174272058787, 125.57748520016754)"
      ]
     },
     "execution_count": 108,
     "metadata": {},
     "output_type": "execute_result"
    }
   ],
   "source": [
    "CI1= sm.stats.DescrStatsW(da.BPXSY1.dropna()).zconfint_mean()\n",
    "CI1"
   ]
  },
  {
   "cell_type": "code",
   "execution_count": 109,
   "metadata": {},
   "outputs": [
    {
     "data": {
      "text/plain": [
       "(124.29493306967777, 125.27110125733216)"
      ]
     },
     "execution_count": 109,
     "metadata": {},
     "output_type": "execute_result"
    }
   ],
   "source": [
    "CI2= sm.stats.DescrStatsW(da.BPXSY2.dropna()).zconfint_mean()\n",
    "CI2"
   ]
  },
  {
   "cell_type": "code",
   "execution_count": 113,
   "metadata": {},
   "outputs": [],
   "source": [
    "from statsmodels.stats import weightstats as sms\n",
    "cm = sms.CompareMeans(sms.DescrStatsW(da.BPXSY1.dropna()),sms.DescrStatsW(da.BPXSY2.dropna()))"
   ]
  },
  {
   "cell_type": "code",
   "execution_count": 120,
   "metadata": {},
   "outputs": [
    {
     "data": {
      "text/plain": [
       "(-0.3921284617422677, 0.9953220554877552)"
      ]
     },
     "execution_count": 120,
     "metadata": {},
     "output_type": "execute_result"
    }
   ],
   "source": [
    "CI3= cm.tconfint_diff(usevar=\"unequal\")\n",
    "CI3"
   ]
  },
  {
   "cell_type": "code",
   "execution_count": 115,
   "metadata": {},
   "outputs": [
    {
     "data": {
      "text/plain": [
       "0.9857424795796703"
      ]
     },
     "execution_count": 115,
     "metadata": {},
     "output_type": "execute_result"
    }
   ],
   "source": [
    "CI1[1] - CI1[0]"
   ]
  },
  {
   "cell_type": "code",
   "execution_count": 116,
   "metadata": {},
   "outputs": [
    {
     "data": {
      "text/plain": [
       "0.9761681876543946"
      ]
     },
     "execution_count": 116,
     "metadata": {},
     "output_type": "execute_result"
    }
   ],
   "source": [
    "CI2[1] - CI2[0]"
   ]
  },
  {
   "cell_type": "code",
   "execution_count": 117,
   "metadata": {},
   "outputs": [
    {
     "data": {
      "text/plain": [
       "1.3874505172300229"
      ]
     },
     "execution_count": 117,
     "metadata": {},
     "output_type": "execute_result"
    }
   ],
   "source": [
    "CI3[1] - CI3[0]"
   ]
  },
  {
   "cell_type": "markdown",
   "metadata": {},
   "source": [
    "__Q5a.__ Based on these confidence intervals, would you say that a difference of zero between the population mean values of the first and second systolic blood pressure measures is consistent with the data?\n",
    "\n",
    "  - yes because zero is included in the interval"
   ]
  },
  {
   "cell_type": "markdown",
   "metadata": {},
   "source": [
    "__Q5b.__ Discuss how the width of the confidence interval for the within-subject difference compares to the widths of the confidence intervals for the first and second measures.\n",
    "\n",
    " - The width of the confidence intervals for the first and second measures are very similar, however, of the confidence intervals for the within-subject difference is slightly larger by 0.4 as it has a larger margin of error"
   ]
  },
  {
   "cell_type": "markdown",
   "metadata": {},
   "source": [
    "## Question 6\n",
    "\n",
    "Construct a 95% confidence interval for the mean difference between the average age of a smoker, and the average age of a non-smoker."
   ]
  },
  {
   "cell_type": "code",
   "execution_count": 121,
   "metadata": {},
   "outputs": [],
   "source": [
    "smokers = da[da['SMQ020'] == 1]['RIDAGEYR']\n",
    "non_smokers = da[~(da['SMQ020'] == 1)]['RIDAGEYR']"
   ]
  },
  {
   "cell_type": "code",
   "execution_count": 122,
   "metadata": {},
   "outputs": [
    {
     "data": {
      "text/plain": [
       "(51.38591951147112, 52.80726720694198)"
      ]
     },
     "execution_count": 122,
     "metadata": {},
     "output_type": "execute_result"
    }
   ],
   "source": [
    "CI_S1 = sm.stats.DescrStatsW(smokers.dropna()).zconfint_mean()\n",
    "CI_S1"
   ]
  },
  {
   "cell_type": "code",
   "execution_count": 123,
   "metadata": {},
   "outputs": [
    {
     "data": {
      "text/plain": [
       "(44.68411549118788, 45.929467646985415)"
      ]
     },
     "execution_count": 123,
     "metadata": {},
     "output_type": "execute_result"
    }
   ],
   "source": [
    "CI_S2 = sm.stats.DescrStatsW(non_smokers.dropna()).zconfint_mean()\n",
    "CI_S2"
   ]
  },
  {
   "cell_type": "code",
   "execution_count": 126,
   "metadata": {},
   "outputs": [
    {
     "data": {
      "text/plain": [
       "(5.844708831852225, 7.73489474838758)"
      ]
     },
     "execution_count": 126,
     "metadata": {},
     "output_type": "execute_result"
    }
   ],
   "source": [
    "sms.CompareMeans(sm.stats.DescrStatsW(smokers.dropna()),sm.stats.DescrStatsW(non_smokers.dropna())).tconfint_diff(usevar=\"unequal\")"
   ]
  }
 ],
 "metadata": {
  "kernelspec": {
   "display_name": "Python 3",
   "language": "python",
   "name": "python3"
  },
  "language_info": {
   "codemirror_mode": {
    "name": "ipython",
    "version": 3
   },
   "file_extension": ".py",
   "mimetype": "text/x-python",
   "name": "python",
   "nbconvert_exporter": "python",
   "pygments_lexer": "ipython3",
   "version": "3.7.6"
  }
 },
 "nbformat": 4,
 "nbformat_minor": 4
}
